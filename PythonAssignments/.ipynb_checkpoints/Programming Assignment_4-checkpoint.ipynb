{
 "cells": [
  {
   "cell_type": "markdown",
   "id": "20cb4340",
   "metadata": {},
   "source": [
    "## Programming Assignment_4\n",
    "----------------"
   ]
  },
  {
   "cell_type": "markdown",
   "id": "4fdb6695",
   "metadata": {},
   "source": [
    "### 1. Write a Python Program to Find the Factorial of a Number?"
   ]
  },
  {
   "cell_type": "code",
   "execution_count": null,
   "id": "77ee2290",
   "metadata": {},
   "outputs": [],
   "source": [
    "x = int(input(\"Enter the Number : \"))\n",
    "\n",
    "def factorial(x):\n",
    "    facto = 1\n",
    "    for i in range(1, x+1):\n",
    "        facto *= i\n",
    "    yield facto\n",
    "    \n",
    "y = factorial(x)\n",
    "for z in y:\n",
    "    print(\"Factorial of \",x,\"is\",z)"
   ]
  },
  {
   "cell_type": "markdown",
   "id": "e6beef62",
   "metadata": {},
   "source": [
    "### 2. Write a Python Program to Display the multiplication Table?"
   ]
  },
  {
   "cell_type": "code",
   "execution_count": null,
   "id": "915196e0",
   "metadata": {},
   "outputs": [],
   "source": []
  },
  {
   "cell_type": "markdown",
   "id": "7de7eba5",
   "metadata": {},
   "source": [
    "### 3. Write a Python Program to Print the Fibonacci sequence?\n"
   ]
  },
  {
   "cell_type": "code",
   "execution_count": null,
   "id": "b382e777",
   "metadata": {},
   "outputs": [],
   "source": [
    "fibo = int(input(\"Enter the Number of Terms : \"))\n",
    "\n",
    "def fibonacci(fibo):\n",
    "    a,b = 0,1\n",
    "    while(a<=fibo):\n",
    "        a,b = b,a+b\n",
    "    yield a\n",
    "\n",
    "x = fibonacci(fibo)\n",
    "\n",
    "for y in x:\n",
    "    print(fibo,\"nth term is : \",y)"
   ]
  },
  {
   "cell_type": "markdown",
   "id": "0446442e",
   "metadata": {},
   "source": [
    "### 4. Write a Python Program to Check Armstrong Number?"
   ]
  },
  {
   "cell_type": "code",
   "execution_count": null,
   "id": "33187e14",
   "metadata": {},
   "outputs": [],
   "source": []
  },
  {
   "cell_type": "markdown",
   "id": "a6f9adfe",
   "metadata": {},
   "source": [
    "### 5. Write a Python Program to Find Armstrong Number in an Interval?"
   ]
  },
  {
   "cell_type": "code",
   "execution_count": null,
   "id": "66eec278",
   "metadata": {},
   "outputs": [],
   "source": []
  },
  {
   "cell_type": "markdown",
   "id": "157cad60",
   "metadata": {},
   "source": [
    "### 6. Write a Python Program to Find the Sum of Natural Numbers?"
   ]
  },
  {
   "cell_type": "code",
   "execution_count": 18,
   "id": "b6f203b7",
   "metadata": {},
   "outputs": [
    {
     "name": "stdout",
     "output_type": "stream",
     "text": [
      "Enter the Number : 3\n",
      "6\n"
     ]
    }
   ],
   "source": [
    "x = int(input(\"Enter the Number : \"))\n",
    "\n",
    "def sum(x):\n",
    "    summ = 0\n",
    "    for i in range(1, x+1):\n",
    "        summ += i\n",
    "    yield summ\n",
    "    \n",
    "y = sum(x)\n",
    "for z in y:\n",
    "    print(z)"
   ]
  },
  {
   "cell_type": "code",
   "execution_count": null,
   "id": "3279d730",
   "metadata": {},
   "outputs": [],
   "source": []
  }
 ],
 "metadata": {
  "kernelspec": {
   "display_name": "Python 3 (ipykernel)",
   "language": "python",
   "name": "python3"
  },
  "language_info": {
   "codemirror_mode": {
    "name": "ipython",
    "version": 3
   },
   "file_extension": ".py",
   "mimetype": "text/x-python",
   "name": "python",
   "nbconvert_exporter": "python",
   "pygments_lexer": "ipython3",
   "version": "3.9.7"
  },
  "toc": {
   "base_numbering": 1,
   "nav_menu": {},
   "number_sections": true,
   "sideBar": true,
   "skip_h1_title": false,
   "title_cell": "Table of Contents",
   "title_sidebar": "Contents",
   "toc_cell": false,
   "toc_position": {},
   "toc_section_display": true,
   "toc_window_display": false
  }
 },
 "nbformat": 4,
 "nbformat_minor": 5
}
