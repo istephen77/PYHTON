{
 "cells": [
  {
   "cell_type": "markdown",
   "id": "08c66ea5",
   "metadata": {},
   "source": [
    "## Programming Assignment_2\n",
    "-------------"
   ]
  },
  {
   "cell_type": "markdown",
   "id": "4e50cf42",
   "metadata": {},
   "source": [
    "### 1. Write a Python program to convert kilometers to miles?\n"
   ]
  },
  {
   "cell_type": "code",
   "execution_count": 19,
   "id": "e5eba239",
   "metadata": {},
   "outputs": [
    {
     "name": "stdout",
     "output_type": "stream",
     "text": [
      "Enter Kilometer : 4\n",
      "Miles  :  2.48548476\n"
     ]
    }
   ],
   "source": [
    "km = float(input(\"Enter Kilometer : \"))\n",
    "miles =  0.62137119*km\n",
    "print(\"Miles  : \", miles)"
   ]
  },
  {
   "cell_type": "markdown",
   "id": "0df4e6bf",
   "metadata": {},
   "source": [
    "### 2.Write a Python program to convert Celsius to Fahrenheit?"
   ]
  },
  {
   "cell_type": "code",
   "execution_count": 11,
   "id": "f7704c4c",
   "metadata": {},
   "outputs": [
    {
     "name": "stdout",
     "output_type": "stream",
     "text": [
      "Enter Celsius : 32\n",
      "Farenheit :  89.6\n"
     ]
    }
   ],
   "source": [
    "celsius = float(input(\"Enter Celsius : \"))\n",
    "farenheit = celsius*(9/5)+32\n",
    "print(\"Farenheit : \", farenheit)"
   ]
  },
  {
   "cell_type": "markdown",
   "id": "46129b8e",
   "metadata": {},
   "source": [
    "### 3. Write a Python program to display calendar?\n"
   ]
  },
  {
   "cell_type": "code",
   "execution_count": 9,
   "id": "753c3317",
   "metadata": {},
   "outputs": [
    {
     "name": "stdout",
     "output_type": "stream",
     "text": [
      "Enter Year : 2022\n",
      "Enter Month : 09\n",
      "   September 2022\n",
      "Mo Tu We Th Fr Sa Su\n",
      "          1  2  3  4\n",
      " 5  6  7  8  9 10 11\n",
      "12 13 14 15 16 17 18\n",
      "19 20 21 22 23 24 25\n",
      "26 27 28 29 30\n",
      "\n"
     ]
    }
   ],
   "source": [
    "import calendar\n",
    "\n",
    "year = int(input(\"Enter Year : \"))\n",
    "month = int(input(\"Enter Month : \"))\n",
    "print(calendar.month(year, month))"
   ]
  },
  {
   "cell_type": "markdown",
   "id": "db2bf0f7",
   "metadata": {},
   "source": [
    "### 4. Write a Python program to solve quadratic equation?"
   ]
  },
  {
   "cell_type": "code",
   "execution_count": 18,
   "id": "30eac096",
   "metadata": {},
   "outputs": [
    {
     "name": "stdout",
     "output_type": "stream",
     "text": [
      "Enter A : 1\n",
      "Enter B : 7\n",
      "Enter C : 9\n",
      "Solution 1 :  (-5.302775637731995+0j)\n",
      "Solution 2 :  (-1.6972243622680054+0j)\n"
     ]
    }
   ],
   "source": [
    "import cmath\n",
    "a = int(input(\"Enter A : \"))\n",
    "b = int(input(\"Enter B : \"))\n",
    "c = int(input(\"Enter C : \"))\n",
    "d = (b**2)-(4*a*c)\n",
    "solution_1 = (-b-cmath.sqrt(d))/(2*a)\n",
    "solution_2 = (-b+cmath.sqrt(d))/(2*a)\n",
    "print(\"Solution 1 : \", solution_1)\n",
    "print(\"Solution 2 : \", solution_2)\n"
   ]
  },
  {
   "cell_type": "markdown",
   "id": "f70f74c9",
   "metadata": {},
   "source": [
    "### 5. Write a Python program to swap two variables without temp variable?"
   ]
  },
  {
   "cell_type": "code",
   "execution_count": 1,
   "id": "859d4480",
   "metadata": {},
   "outputs": [
    {
     "name": "stdout",
     "output_type": "stream",
     "text": [
      "Enter X : 20\n",
      "Enter Y : 10\n",
      "X :  10\n",
      "Y :  20\n"
     ]
    }
   ],
   "source": [
    "x = int(input(\"Enter X : \"))\n",
    "y = int(input(\"Enter Y : \"))\n",
    "x, y = y,x\n",
    "print(\"X : \",x)\n",
    "print(\"Y : \", y)"
   ]
  }
 ],
 "metadata": {
  "kernelspec": {
   "display_name": "Python 3 (ipykernel)",
   "language": "python",
   "name": "python3"
  },
  "language_info": {
   "codemirror_mode": {
    "name": "ipython",
    "version": 3
   },
   "file_extension": ".py",
   "mimetype": "text/x-python",
   "name": "python",
   "nbconvert_exporter": "python",
   "pygments_lexer": "ipython3",
   "version": "3.9.7"
  },
  "toc": {
   "base_numbering": 1,
   "nav_menu": {},
   "number_sections": true,
   "sideBar": true,
   "skip_h1_title": false,
   "title_cell": "Table of Contents",
   "title_sidebar": "Contents",
   "toc_cell": false,
   "toc_position": {},
   "toc_section_display": true,
   "toc_window_display": false
  }
 },
 "nbformat": 4,
 "nbformat_minor": 5
}
