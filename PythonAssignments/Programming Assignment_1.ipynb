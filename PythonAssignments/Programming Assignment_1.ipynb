{
 "cells": [
  {
   "cell_type": "markdown",
   "id": "637b47a5",
   "metadata": {},
   "source": [
    "## Programming Assignment_1\n",
    "-------------"
   ]
  },
  {
   "cell_type": "markdown",
   "id": "0c647dbe",
   "metadata": {},
   "source": [
    "### 1. Write a Python program to print \"Hello Python\"?"
   ]
  },
  {
   "cell_type": "code",
   "execution_count": 1,
   "id": "5e112357",
   "metadata": {},
   "outputs": [
    {
     "name": "stdout",
     "output_type": "stream",
     "text": [
      "Hello Python\n"
     ]
    }
   ],
   "source": [
    "print(\"Hello Python\")"
   ]
  },
  {
   "cell_type": "markdown",
   "id": "fc18a6cd",
   "metadata": {},
   "source": [
    "### 2. Write a Python program to do arithmetical operations addition and division.?\n"
   ]
  },
  {
   "cell_type": "code",
   "execution_count": 3,
   "id": "3b6973e2",
   "metadata": {},
   "outputs": [
    {
     "name": "stdout",
     "output_type": "stream",
     "text": [
      "Enter A : 50\n",
      "Enter B : 10\n",
      "Addition :  60.0\n",
      "Division :  5.0\n"
     ]
    }
   ],
   "source": [
    "a = float(input(\"Enter A : \"))\n",
    "b = float(input(\"Enter B : \"))\n",
    "addition = float(a+b)\n",
    "division = float(a/b)\n",
    "print(\"Addition : \", addition)\n",
    "print(\"Division : \", division)"
   ]
  },
  {
   "cell_type": "markdown",
   "id": "af6e2429",
   "metadata": {},
   "source": [
    "### 3. Write a Python program to find the area of a triangle?\n"
   ]
  },
  {
   "cell_type": "code",
   "execution_count": 2,
   "id": "5dcff6fa",
   "metadata": {},
   "outputs": [
    {
     "name": "stdout",
     "output_type": "stream",
     "text": [
      "Enter Base : 20\n",
      "Enter Height : 20\n",
      "Area of Triangle is :  200.0\n"
     ]
    }
   ],
   "source": [
    "base = float(input(\"Enter Base : \"))\n",
    "height = float(input(\"Enter Height : \"))\n",
    "area = 0.5*base*height\n",
    "print(\"Area of Triangle is : \",area)"
   ]
  },
  {
   "cell_type": "markdown",
   "id": "b8140061",
   "metadata": {},
   "source": [
    "### 4. Write a Python program to swap two variables?\n"
   ]
  },
  {
   "cell_type": "code",
   "execution_count": 5,
   "id": "f2f725c5",
   "metadata": {},
   "outputs": [
    {
     "name": "stdout",
     "output_type": "stream",
     "text": [
      "Enter A : 20\n",
      "Enter B: 10\n",
      "A :  10\n",
      "B :  20\n"
     ]
    }
   ],
   "source": [
    "a = int(input(\"Enter A : \"))\n",
    "b = int(input(\"Enter B: \"))\n",
    "a,b = b,a\n",
    "print(\"A : \",a)\n",
    "print(\"B : \",b)"
   ]
  },
  {
   "cell_type": "markdown",
   "id": "3f8054c1",
   "metadata": {},
   "source": [
    "### 5. Write a Python program to generate a random number?\n"
   ]
  },
  {
   "cell_type": "code",
   "execution_count": 9,
   "id": "56762b1b",
   "metadata": {},
   "outputs": [
    {
     "name": "stdout",
     "output_type": "stream",
     "text": [
      "20\n"
     ]
    }
   ],
   "source": [
    "import random\n",
    "\n",
    "x = random.randint(0,21)\n",
    "print(x)"
   ]
  },
  {
   "cell_type": "code",
   "execution_count": null,
   "id": "77bdea39",
   "metadata": {},
   "outputs": [],
   "source": []
  }
 ],
 "metadata": {
  "kernelspec": {
   "display_name": "Python 3 (ipykernel)",
   "language": "python",
   "name": "python3"
  },
  "language_info": {
   "codemirror_mode": {
    "name": "ipython",
    "version": 3
   },
   "file_extension": ".py",
   "mimetype": "text/x-python",
   "name": "python",
   "nbconvert_exporter": "python",
   "pygments_lexer": "ipython3",
   "version": "3.9.7"
  },
  "toc": {
   "base_numbering": 1,
   "nav_menu": {},
   "number_sections": true,
   "sideBar": true,
   "skip_h1_title": false,
   "title_cell": "Table of Contents",
   "title_sidebar": "Contents",
   "toc_cell": false,
   "toc_position": {},
   "toc_section_display": true,
   "toc_window_display": false
  }
 },
 "nbformat": 4,
 "nbformat_minor": 5
}
