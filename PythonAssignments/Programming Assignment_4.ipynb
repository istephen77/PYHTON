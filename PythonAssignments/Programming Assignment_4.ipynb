{
 "cells": [
  {
   "cell_type": "markdown",
   "id": "20cb4340",
   "metadata": {},
   "source": [
    "## Programming Assignment_4\n",
    "----------------"
   ]
  },
  {
   "cell_type": "markdown",
   "id": "4fdb6695",
   "metadata": {},
   "source": [
    "### 1. Write a Python Program to Find the Factorial of a Number?"
   ]
  },
  {
   "cell_type": "code",
   "execution_count": 1,
   "id": "6066973c",
   "metadata": {},
   "outputs": [
    {
     "name": "stdout",
     "output_type": "stream",
     "text": [
      "Enter the Number : 5\n",
      "Factorial of  5 is 120\n"
     ]
    }
   ],
   "source": [
    "x = int(input(\"Enter the Number : \"))\n",
    "\n",
    "def factorial(x):\n",
    "    facto = 1\n",
    "    for i in range(1, x+1):\n",
    "        facto *= i\n",
    "    yield facto\n",
    "    \n",
    "y = factorial(x)\n",
    "for z in y:\n",
    "    print(\"Factorial of \",x,\"is\",z)"
   ]
  },
  {
   "cell_type": "markdown",
   "id": "e6beef62",
   "metadata": {},
   "source": [
    "### 2. Write a Python Program to Display the multiplication Table?"
   ]
  },
  {
   "cell_type": "code",
   "execution_count": 6,
   "id": "af347cc2",
   "metadata": {},
   "outputs": [
    {
     "name": "stdout",
     "output_type": "stream",
     "text": [
      "Enter Number : 12\n",
      "12 * 1 = 12\n",
      "12 * 2 = 24\n",
      "12 * 3 = 36\n",
      "12 * 4 = 48\n",
      "12 * 5 = 60\n",
      "12 * 6 = 72\n",
      "12 * 7 = 84\n",
      "12 * 8 = 96\n",
      "12 * 9 = 108\n",
      "12 * 10 = 120\n"
     ]
    }
   ],
   "source": [
    "x = int(input(\"Enter Number : \"))\n",
    "\n",
    "for i in range(1,11):\n",
    "    print(x,\"*\",i,\"=\",x*i)"
   ]
  },
  {
   "cell_type": "markdown",
   "id": "7de7eba5",
   "metadata": {},
   "source": [
    "### 3. Write a Python Program to Print the Fibonacci sequence?\n"
   ]
  },
  {
   "cell_type": "code",
   "execution_count": 3,
   "id": "ff81a1a7",
   "metadata": {},
   "outputs": [
    {
     "name": "stdout",
     "output_type": "stream",
     "text": [
      "Enter the Number of Terms : 5\n",
      "5 th term is :  8\n"
     ]
    }
   ],
   "source": [
    "fibo = int(input(\"Enter the Number of Terms : \"))\n",
    "\n",
    "def fibonacci(fibo):\n",
    "    a,b = 0,1\n",
    "    while(a<=fibo):\n",
    "        a,b = b,a+b\n",
    "    yield a\n",
    "\n",
    "x = fibonacci(fibo)\n",
    "\n",
    "for y in x:\n",
    "    print(fibo,\"th term is : \",y)"
   ]
  },
  {
   "cell_type": "markdown",
   "id": "0446442e",
   "metadata": {},
   "source": [
    "### 4. Write a Python Program to Check Armstrong Number?"
   ]
  },
  {
   "cell_type": "code",
   "execution_count": 8,
   "id": "9ce108e8",
   "metadata": {},
   "outputs": [
    {
     "name": "stdout",
     "output_type": "stream",
     "text": [
      "Enter the number : 153\n",
      "Armstrong Number\n"
     ]
    }
   ],
   "source": [
    "n = int(input(\"Enter the number : \"))\n",
    "\n",
    "sum = 0\n",
    "order = len(str(n))\n",
    "copy_n = n\n",
    "while(n > 0):\n",
    "    digit = n%10\n",
    "    sum += digit**order\n",
    "    n = n//10\n",
    "\n",
    "if (sum == copy_n):\n",
    "    print(\"Armstrong Number\")\n",
    "else:\n",
    "    print(\"Not an Armstrong Number\")\n"
   ]
  },
  {
   "cell_type": "markdown",
   "id": "a6f9adfe",
   "metadata": {},
   "source": [
    "### 5. Write a Python Program to Find Armstrong Number in an Interval?"
   ]
  },
  {
   "cell_type": "code",
   "execution_count": 22,
   "id": "7a930643",
   "metadata": {},
   "outputs": [
    {
     "name": "stdout",
     "output_type": "stream",
     "text": [
      "Enter Lower interval : 100\n",
      "Enter Upper interval : 200\n",
      "153\n"
     ]
    }
   ],
   "source": [
    "l = int(input(\"Enter Lower interval : \"))\n",
    "u = int(input(\"Enter Upper interval : \"))\n",
    "\n",
    "for num in range(l, u + 1):\n",
    "    order = len(str(num))\n",
    "    sum = 0\n",
    "    temp = num\n",
    "    while temp > 0:\n",
    "        digit = temp % 10\n",
    "        sum += digit ** order\n",
    "        temp //= 10\n",
    "\n",
    "    if num == sum:\n",
    "        print(num)\n"
   ]
  },
  {
   "cell_type": "markdown",
   "id": "157cad60",
   "metadata": {},
   "source": [
    "### 6. Write a Python Program to Find the Sum of Natural Numbers?"
   ]
  },
  {
   "cell_type": "code",
   "execution_count": 5,
   "id": "f8f4ec77",
   "metadata": {},
   "outputs": [
    {
     "name": "stdout",
     "output_type": "stream",
     "text": [
      "Enter the Number : 5\n",
      "Sum :  15\n"
     ]
    }
   ],
   "source": [
    "x = int(input(\"Enter the Number : \"))\n",
    "\n",
    "def sum(x):\n",
    "    summ = 0\n",
    "    for i in range(1, x+1):\n",
    "        summ += i\n",
    "    yield summ\n",
    "    \n",
    "y = sum(x)\n",
    "for z in y:\n",
    "    print(\"Sum : \",z)"
   ]
  }
 ],
 "metadata": {
  "kernelspec": {
   "display_name": "Python 3 (ipykernel)",
   "language": "python",
   "name": "python3"
  },
  "language_info": {
   "codemirror_mode": {
    "name": "ipython",
    "version": 3
   },
   "file_extension": ".py",
   "mimetype": "text/x-python",
   "name": "python",
   "nbconvert_exporter": "python",
   "pygments_lexer": "ipython3",
   "version": "3.9.7"
  },
  "toc": {
   "base_numbering": 1,
   "nav_menu": {},
   "number_sections": true,
   "sideBar": true,
   "skip_h1_title": false,
   "title_cell": "Table of Contents",
   "title_sidebar": "Contents",
   "toc_cell": false,
   "toc_position": {},
   "toc_section_display": true,
   "toc_window_display": false
  }
 },
 "nbformat": 4,
 "nbformat_minor": 5
}
